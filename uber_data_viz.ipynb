{
 "cells": [
  {
   "cell_type": "code",
   "execution_count": 87,
   "id": "hungry-starter",
   "metadata": {},
   "outputs": [],
   "source": [
    "from plotnine import ggplot, aes, labels, scales\n",
    "from plotnine.geoms import geom_bar\n",
    "import arrow\n",
    "import dfply\n",
    "import tidypython\n",
    "from itables import init_notebook_mode\n",
    "from itables import show\n",
    "import pandas as pd\n",
    "from datetime import datetime\n",
    "import numpy as np"
   ]
  },
  {
   "cell_type": "code",
   "execution_count": 4,
   "id": "attached-mason",
   "metadata": {},
   "outputs": [],
   "source": [
    "import warnings\n",
    "warnings.filterwarnings(\"ignore\", category=DeprecationWarning)"
   ]
  },
  {
   "cell_type": "code",
   "execution_count": 37,
   "id": "spiritual-storage",
   "metadata": {},
   "outputs": [
    {
     "data": {
      "application/javascript": [
       "require.config({\n",
       "    paths: {\n",
       "        datatables: 'https://cdn.datatables.net/1.10.19/js/jquery.dataTables.min',\n",
       "    }\n",
       "});\n",
       "\n",
       "$('head').append('<link rel=\"stylesheet\" type=\"text/css\" \\\n",
       "                href = \"https://cdn.datatables.net/1.10.19/css/jquery.dataTables.min.css\" > ');\n",
       "\n",
       "$('head').append('<style> table td { text-overflow: ellipsis; overflow: hidden; } </style>');\n",
       "\n",
       "$('head').append(`<script>\n",
       "function eval_functions(map_or_text) {\n",
       "    if (typeof map_or_text === \"string\") {\n",
       "        if (map_or_text.startsWith(\"function\")) {\n",
       "            try {\n",
       "                // Note: parenthesis are required around the whole expression for eval to return a value!\n",
       "                // See https://stackoverflow.com/a/7399078/911298.\n",
       "                //\n",
       "                // eval(\"local_fun = \" + map_or_text) would fail because local_fun is not declared\n",
       "                // (using var, let or const would work, but it would only be declared in the local scope\n",
       "                // and therefore the value could not be retrieved).\n",
       "                const func = eval(\"(\" + map_or_text + \")\");\n",
       "                if (typeof func !== \"function\") {\n",
       "                    // Note: backquotes are super convenient!\n",
       "                    // https://developer.mozilla.org/en-US/docs/Web/JavaScript/Reference/Template_literals\n",
       "                    console.error(\"Evaluated expression \" + map_or_text + \" is not a function (type is \" + typeof func + \")\");\n",
       "                    return map_or_text;\n",
       "                }\n",
       "                // Return the function\n",
       "                return func;\n",
       "            } catch (e) {\n",
       "                // Make sure to print the error with a second argument to console.error().\n",
       "                console.error(\"itables was not able to parse \" + map_or_text, e);\n",
       "            }\n",
       "        }\n",
       "    } else if (typeof map_or_text === \"object\") {\n",
       "        if (map_or_text instanceof Array) {\n",
       "            // Note: \"var\" is now superseded by \"let\" and \"const\".\n",
       "            // https://medium.com/javascript-scene/javascript-es6-var-let-or-const-ba58b8dcde75\n",
       "            const result = [];\n",
       "            // Note: \"for of\" is the best way to iterate through an iterable.\n",
       "            // https://developer.mozilla.org/en-US/docs/Web/JavaScript/Reference/Statements/for...of\n",
       "            for (const item of map_or_text) {\n",
       "                result.push(eval_functions(item));\n",
       "            }\n",
       "            return result;\n",
       "\n",
       "            // Alternatively, more functional approach in one line:\n",
       "            // return map_or_text.map(eval_functions);\n",
       "        } else {\n",
       "            const result = {};\n",
       "            // Object.keys() is safer than \"for in\" because otherwise you might have keys\n",
       "            // that aren't defined in the object itself.\n",
       "            //\n",
       "            // See https://stackoverflow.com/a/684692/911298.\n",
       "            for (const item of Object.keys(map_or_text)) {\n",
       "                result[item] = eval_functions(map_or_text[item]);\n",
       "            }\n",
       "            return result;\n",
       "        }\n",
       "    }\n",
       "\n",
       "    return map_or_text;\n",
       "}\n",
       "\n",
       "</` + 'script>');"
      ],
      "text/plain": [
       "<IPython.core.display.Javascript object>"
      ]
     },
     "metadata": {},
     "output_type": "display_data"
    }
   ],
   "source": [
    "init_notebook_mode(all_interactive=True)"
   ]
  },
  {
   "cell_type": "code",
   "execution_count": 5,
   "id": "short-bosnia",
   "metadata": {},
   "outputs": [],
   "source": [
    "# Create list of colors to be used in plots\n",
    "\n",
    "colors = ['#003f5c', '#374c80', '#7a5195', '#bc5090', '#ef5675', '#ff764a', '#ffa600']"
   ]
  },
  {
   "cell_type": "markdown",
   "id": "guilty-amateur",
   "metadata": {},
   "source": [
    "## Load Data\n",
    "\n",
    "Load data into DataFrames. Create columns for each element of the Date/Time information."
   ]
  },
  {
   "cell_type": "code",
   "execution_count": 10,
   "id": "green-warrant",
   "metadata": {},
   "outputs": [
    {
     "data": {
      "text/html": [
       "<div>\n",
       "<style scoped>\n",
       "    .dataframe tbody tr th:only-of-type {\n",
       "        vertical-align: middle;\n",
       "    }\n",
       "\n",
       "    .dataframe tbody tr th {\n",
       "        vertical-align: top;\n",
       "    }\n",
       "\n",
       "    .dataframe thead th {\n",
       "        text-align: right;\n",
       "    }\n",
       "</style>\n",
       "<table border=\"1\" class=\"dataframe\">\n",
       "  <thead>\n",
       "    <tr style=\"text-align: right;\">\n",
       "      <th></th>\n",
       "      <th>Date/Time</th>\n",
       "      <th>Lat</th>\n",
       "      <th>Lon</th>\n",
       "      <th>Base</th>\n",
       "    </tr>\n",
       "  </thead>\n",
       "  <tbody>\n",
       "    <tr>\n",
       "      <th>0</th>\n",
       "      <td>6/1/2014 0:00:00</td>\n",
       "      <td>40.7293</td>\n",
       "      <td>-73.9920</td>\n",
       "      <td>B02512</td>\n",
       "    </tr>\n",
       "    <tr>\n",
       "      <th>1</th>\n",
       "      <td>6/1/2014 0:01:00</td>\n",
       "      <td>40.7131</td>\n",
       "      <td>-74.0097</td>\n",
       "      <td>B02512</td>\n",
       "    </tr>\n",
       "    <tr>\n",
       "      <th>2</th>\n",
       "      <td>6/1/2014 0:04:00</td>\n",
       "      <td>40.3461</td>\n",
       "      <td>-74.6610</td>\n",
       "      <td>B02512</td>\n",
       "    </tr>\n",
       "    <tr>\n",
       "      <th>3</th>\n",
       "      <td>6/1/2014 0:04:00</td>\n",
       "      <td>40.7555</td>\n",
       "      <td>-73.9833</td>\n",
       "      <td>B02512</td>\n",
       "    </tr>\n",
       "    <tr>\n",
       "      <th>4</th>\n",
       "      <td>6/1/2014 0:07:00</td>\n",
       "      <td>40.6880</td>\n",
       "      <td>-74.1831</td>\n",
       "      <td>B02512</td>\n",
       "    </tr>\n",
       "  </tbody>\n",
       "</table>\n",
       "</div>"
      ],
      "text/plain": [
       "          Date/Time      Lat      Lon    Base\n",
       "0  6/1/2014 0:00:00  40.7293 -73.9920  B02512\n",
       "1  6/1/2014 0:01:00  40.7131 -74.0097  B02512\n",
       "2  6/1/2014 0:04:00  40.3461 -74.6610  B02512\n",
       "3  6/1/2014 0:04:00  40.7555 -73.9833  B02512\n",
       "4  6/1/2014 0:07:00  40.6880 -74.1831  B02512"
      ]
     },
     "execution_count": 10,
     "metadata": {},
     "output_type": "execute_result"
    }
   ],
   "source": [
    "# Load data into DataFrames and then concatenate DFs into one\n",
    "\n",
    "apr_data = pd.read_csv('data/uber-raw-data-apr14.csv')\n",
    "may_data = pd.read_csv('data/uber-raw-data-may14.csv')\n",
    "jun_data = pd.read_csv('data/uber-raw-data-jun14.csv')\n",
    "jul_data = pd.read_csv('data/uber-raw-data-jul14.csv')\n",
    "aug_data = pd.read_csv('data/uber-raw-data-aug14.csv')\n",
    "sep_data = pd.read_csv('data/uber-raw-data-sep14.csv')\n",
    "jun_data.head()"
   ]
  },
  {
   "cell_type": "code",
   "execution_count": 11,
   "id": "wicked-assets",
   "metadata": {},
   "outputs": [
    {
     "data": {
      "text/plain": [
       "(663844, 4)"
      ]
     },
     "execution_count": 11,
     "metadata": {},
     "output_type": "execute_result"
    }
   ],
   "source": [
    "jun_data.shape"
   ]
  },
  {
   "cell_type": "code",
   "execution_count": 12,
   "id": "lined-shelf",
   "metadata": {},
   "outputs": [
    {
     "data": {
      "text/plain": [
       "(4534327, 4)"
      ]
     },
     "execution_count": 12,
     "metadata": {},
     "output_type": "execute_result"
    }
   ],
   "source": [
    "data = pd.concat([apr_data, may_data, jun_data, jul_data, aug_data, sep_data])\n",
    "data.shape"
   ]
  },
  {
   "cell_type": "code",
   "execution_count": 14,
   "id": "religious-montgomery",
   "metadata": {},
   "outputs": [
    {
     "name": "stdout",
     "output_type": "stream",
     "text": [
      "<class 'pandas.core.frame.DataFrame'>\n",
      "Int64Index: 4534327 entries, 0 to 1028135\n",
      "Data columns (total 4 columns):\n",
      " #   Column     Dtype         \n",
      "---  ------     -----         \n",
      " 0   Date/Time  datetime64[ns]\n",
      " 1   Lat        float64       \n",
      " 2   Lon        float64       \n",
      " 3   Base       object        \n",
      "dtypes: datetime64[ns](1), float64(2), object(1)\n",
      "memory usage: 173.0+ MB\n"
     ]
    }
   ],
   "source": [
    "# Convert date/time info into datetime dtype\n",
    "\n",
    "data['Date/Time'] = pd.to_datetime(data['Date/Time'], format='%m/%d/%Y %H:%M:%S')\n",
    "data.info()"
   ]
  },
  {
   "cell_type": "code",
   "execution_count": 19,
   "id": "german-bulgaria",
   "metadata": {},
   "outputs": [
    {
     "data": {
      "text/html": [
       "<div>\n",
       "<style scoped>\n",
       "    .dataframe tbody tr th:only-of-type {\n",
       "        vertical-align: middle;\n",
       "    }\n",
       "\n",
       "    .dataframe tbody tr th {\n",
       "        vertical-align: top;\n",
       "    }\n",
       "\n",
       "    .dataframe thead th {\n",
       "        text-align: right;\n",
       "    }\n",
       "</style>\n",
       "<table border=\"1\" class=\"dataframe\">\n",
       "  <thead>\n",
       "    <tr style=\"text-align: right;\">\n",
       "      <th></th>\n",
       "      <th>Date/Time</th>\n",
       "      <th>Lat</th>\n",
       "      <th>Lon</th>\n",
       "      <th>Base</th>\n",
       "      <th>Time</th>\n",
       "    </tr>\n",
       "  </thead>\n",
       "  <tbody>\n",
       "    <tr>\n",
       "      <th>0</th>\n",
       "      <td>2014-04-01 00:11:00</td>\n",
       "      <td>40.7690</td>\n",
       "      <td>-73.9549</td>\n",
       "      <td>B02512</td>\n",
       "      <td>00:11:00</td>\n",
       "    </tr>\n",
       "    <tr>\n",
       "      <th>1</th>\n",
       "      <td>2014-04-01 00:17:00</td>\n",
       "      <td>40.7267</td>\n",
       "      <td>-74.0345</td>\n",
       "      <td>B02512</td>\n",
       "      <td>00:17:00</td>\n",
       "    </tr>\n",
       "    <tr>\n",
       "      <th>2</th>\n",
       "      <td>2014-04-01 00:21:00</td>\n",
       "      <td>40.7316</td>\n",
       "      <td>-73.9873</td>\n",
       "      <td>B02512</td>\n",
       "      <td>00:21:00</td>\n",
       "    </tr>\n",
       "    <tr>\n",
       "      <th>3</th>\n",
       "      <td>2014-04-01 00:28:00</td>\n",
       "      <td>40.7588</td>\n",
       "      <td>-73.9776</td>\n",
       "      <td>B02512</td>\n",
       "      <td>00:28:00</td>\n",
       "    </tr>\n",
       "    <tr>\n",
       "      <th>4</th>\n",
       "      <td>2014-04-01 00:33:00</td>\n",
       "      <td>40.7594</td>\n",
       "      <td>-73.9722</td>\n",
       "      <td>B02512</td>\n",
       "      <td>00:33:00</td>\n",
       "    </tr>\n",
       "  </tbody>\n",
       "</table>\n",
       "</div>"
      ],
      "text/plain": [
       "            Date/Time      Lat      Lon    Base      Time\n",
       "0 2014-04-01 00:11:00  40.7690 -73.9549  B02512  00:11:00\n",
       "1 2014-04-01 00:17:00  40.7267 -74.0345  B02512  00:17:00\n",
       "2 2014-04-01 00:21:00  40.7316 -73.9873  B02512  00:21:00\n",
       "3 2014-04-01 00:28:00  40.7588 -73.9776  B02512  00:28:00\n",
       "4 2014-04-01 00:33:00  40.7594 -73.9722  B02512  00:33:00"
      ]
     },
     "execution_count": 19,
     "metadata": {},
     "output_type": "execute_result"
    }
   ],
   "source": [
    "# Create time column\n",
    "\n",
    "def get_time(date_time):\n",
    "    return date_time.strftime('%H:%M:%S')\n",
    "\n",
    "data['Time'] = data['Date/Time'].map(get_time)\n",
    "data.head()"
   ]
  },
  {
   "cell_type": "code",
   "execution_count": 21,
   "id": "selective-preservation",
   "metadata": {},
   "outputs": [
    {
     "name": "stdout",
     "output_type": "stream",
     "text": [
      "<class 'pandas.core.frame.DataFrame'>\n",
      "Int64Index: 4534327 entries, 0 to 1028135\n",
      "Data columns (total 5 columns):\n",
      " #   Column     Dtype         \n",
      "---  ------     -----         \n",
      " 0   Date/Time  datetime64[ns]\n",
      " 1   Lat        float64       \n",
      " 2   Lon        float64       \n",
      " 3   Base       object        \n",
      " 4   Time       datetime64[ns]\n",
      "dtypes: datetime64[ns](2), float64(2), object(1)\n",
      "memory usage: 207.6+ MB\n"
     ]
    }
   ],
   "source": [
    "data['Time'] = pd.to_datetime(data.Time, format='%H:%M:%S')\n",
    "data.info()"
   ]
  },
  {
   "cell_type": "code",
   "execution_count": 27,
   "id": "weird-perry",
   "metadata": {},
   "outputs": [
    {
     "data": {
      "text/html": [
       "<div>\n",
       "<style scoped>\n",
       "    .dataframe tbody tr th:only-of-type {\n",
       "        vertical-align: middle;\n",
       "    }\n",
       "\n",
       "    .dataframe tbody tr th {\n",
       "        vertical-align: top;\n",
       "    }\n",
       "\n",
       "    .dataframe thead th {\n",
       "        text-align: right;\n",
       "    }\n",
       "</style>\n",
       "<table border=\"1\" class=\"dataframe\">\n",
       "  <thead>\n",
       "    <tr style=\"text-align: right;\">\n",
       "      <th></th>\n",
       "      <th>Date/Time</th>\n",
       "      <th>Lat</th>\n",
       "      <th>Lon</th>\n",
       "      <th>Base</th>\n",
       "      <th>Time</th>\n",
       "      <th>Day</th>\n",
       "      <th>Month</th>\n",
       "      <th>Year</th>\n",
       "      <th>Day_of_Week</th>\n",
       "    </tr>\n",
       "  </thead>\n",
       "  <tbody>\n",
       "    <tr>\n",
       "      <th>0</th>\n",
       "      <td>2014-04-01 00:11:00</td>\n",
       "      <td>40.7690</td>\n",
       "      <td>-73.9549</td>\n",
       "      <td>B02512</td>\n",
       "      <td>1900-01-01 00:11:00</td>\n",
       "      <td>1</td>\n",
       "      <td>4</td>\n",
       "      <td>2014</td>\n",
       "      <td>1</td>\n",
       "    </tr>\n",
       "    <tr>\n",
       "      <th>1</th>\n",
       "      <td>2014-04-01 00:17:00</td>\n",
       "      <td>40.7267</td>\n",
       "      <td>-74.0345</td>\n",
       "      <td>B02512</td>\n",
       "      <td>1900-01-01 00:17:00</td>\n",
       "      <td>1</td>\n",
       "      <td>4</td>\n",
       "      <td>2014</td>\n",
       "      <td>1</td>\n",
       "    </tr>\n",
       "    <tr>\n",
       "      <th>2</th>\n",
       "      <td>2014-04-01 00:21:00</td>\n",
       "      <td>40.7316</td>\n",
       "      <td>-73.9873</td>\n",
       "      <td>B02512</td>\n",
       "      <td>1900-01-01 00:21:00</td>\n",
       "      <td>1</td>\n",
       "      <td>4</td>\n",
       "      <td>2014</td>\n",
       "      <td>1</td>\n",
       "    </tr>\n",
       "    <tr>\n",
       "      <th>3</th>\n",
       "      <td>2014-04-01 00:28:00</td>\n",
       "      <td>40.7588</td>\n",
       "      <td>-73.9776</td>\n",
       "      <td>B02512</td>\n",
       "      <td>1900-01-01 00:28:00</td>\n",
       "      <td>1</td>\n",
       "      <td>4</td>\n",
       "      <td>2014</td>\n",
       "      <td>1</td>\n",
       "    </tr>\n",
       "    <tr>\n",
       "      <th>4</th>\n",
       "      <td>2014-04-01 00:33:00</td>\n",
       "      <td>40.7594</td>\n",
       "      <td>-73.9722</td>\n",
       "      <td>B02512</td>\n",
       "      <td>1900-01-01 00:33:00</td>\n",
       "      <td>1</td>\n",
       "      <td>4</td>\n",
       "      <td>2014</td>\n",
       "      <td>1</td>\n",
       "    </tr>\n",
       "  </tbody>\n",
       "</table>\n",
       "</div>"
      ],
      "text/plain": [
       "            Date/Time      Lat      Lon    Base                Time  Day  \\\n",
       "0 2014-04-01 00:11:00  40.7690 -73.9549  B02512 1900-01-01 00:11:00    1   \n",
       "1 2014-04-01 00:17:00  40.7267 -74.0345  B02512 1900-01-01 00:17:00    1   \n",
       "2 2014-04-01 00:21:00  40.7316 -73.9873  B02512 1900-01-01 00:21:00    1   \n",
       "3 2014-04-01 00:28:00  40.7588 -73.9776  B02512 1900-01-01 00:28:00    1   \n",
       "4 2014-04-01 00:33:00  40.7594 -73.9722  B02512 1900-01-01 00:33:00    1   \n",
       "\n",
       "   Month  Year  Day_of_Week  \n",
       "0      4  2014            1  \n",
       "1      4  2014            1  \n",
       "2      4  2014            1  \n",
       "3      4  2014            1  \n",
       "4      4  2014            1  "
      ]
     },
     "execution_count": 27,
     "metadata": {},
     "output_type": "execute_result"
    }
   ],
   "source": [
    "# Create day, month, year, and DOW columns\n",
    "\n",
    "data['Day'] = data['Date/Time'].dt.day\n",
    "data['Month'] = data['Date/Time'].dt.month\n",
    "data['Year'] = data['Date/Time'].dt.year\n",
    "data['Day_of_Week'] = data['Date/Time'].dt.dayofweek\n",
    "data.head()"
   ]
  },
  {
   "cell_type": "code",
   "execution_count": 23,
   "id": "exotic-maple",
   "metadata": {},
   "outputs": [
    {
     "name": "stdout",
     "output_type": "stream",
     "text": [
      "<class 'pandas.core.frame.DataFrame'>\n",
      "Int64Index: 4534327 entries, 0 to 1028135\n",
      "Data columns (total 8 columns):\n",
      " #   Column     Dtype         \n",
      "---  ------     -----         \n",
      " 0   Date/Time  datetime64[ns]\n",
      " 1   Lat        float64       \n",
      " 2   Lon        float64       \n",
      " 3   Base       object        \n",
      " 4   Time       datetime64[ns]\n",
      " 5   Day        int64         \n",
      " 6   Month      int64         \n",
      " 7   Year       int64         \n",
      "dtypes: datetime64[ns](2), float64(2), int64(3), object(1)\n",
      "memory usage: 311.3+ MB\n"
     ]
    }
   ],
   "source": [
    "data.info()"
   ]
  },
  {
   "cell_type": "code",
   "execution_count": 29,
   "id": "completed-composite",
   "metadata": {},
   "outputs": [
    {
     "data": {
      "text/html": [
       "<div>\n",
       "<style scoped>\n",
       "    .dataframe tbody tr th:only-of-type {\n",
       "        vertical-align: middle;\n",
       "    }\n",
       "\n",
       "    .dataframe tbody tr th {\n",
       "        vertical-align: top;\n",
       "    }\n",
       "\n",
       "    .dataframe thead th {\n",
       "        text-align: right;\n",
       "    }\n",
       "</style>\n",
       "<table border=\"1\" class=\"dataframe\">\n",
       "  <thead>\n",
       "    <tr style=\"text-align: right;\">\n",
       "      <th></th>\n",
       "      <th>Date/Time</th>\n",
       "      <th>Lat</th>\n",
       "      <th>Lon</th>\n",
       "      <th>Base</th>\n",
       "      <th>Time</th>\n",
       "      <th>Day</th>\n",
       "      <th>Month</th>\n",
       "      <th>Year</th>\n",
       "      <th>Day_of_Week</th>\n",
       "      <th>Day_Name</th>\n",
       "    </tr>\n",
       "  </thead>\n",
       "  <tbody>\n",
       "    <tr>\n",
       "      <th>0</th>\n",
       "      <td>2014-04-01 00:11:00</td>\n",
       "      <td>40.7690</td>\n",
       "      <td>-73.9549</td>\n",
       "      <td>B02512</td>\n",
       "      <td>1900-01-01 00:11:00</td>\n",
       "      <td>1</td>\n",
       "      <td>4</td>\n",
       "      <td>2014</td>\n",
       "      <td>1</td>\n",
       "      <td>Tue</td>\n",
       "    </tr>\n",
       "    <tr>\n",
       "      <th>1</th>\n",
       "      <td>2014-04-01 00:17:00</td>\n",
       "      <td>40.7267</td>\n",
       "      <td>-74.0345</td>\n",
       "      <td>B02512</td>\n",
       "      <td>1900-01-01 00:17:00</td>\n",
       "      <td>1</td>\n",
       "      <td>4</td>\n",
       "      <td>2014</td>\n",
       "      <td>1</td>\n",
       "      <td>Tue</td>\n",
       "    </tr>\n",
       "    <tr>\n",
       "      <th>2</th>\n",
       "      <td>2014-04-01 00:21:00</td>\n",
       "      <td>40.7316</td>\n",
       "      <td>-73.9873</td>\n",
       "      <td>B02512</td>\n",
       "      <td>1900-01-01 00:21:00</td>\n",
       "      <td>1</td>\n",
       "      <td>4</td>\n",
       "      <td>2014</td>\n",
       "      <td>1</td>\n",
       "      <td>Tue</td>\n",
       "    </tr>\n",
       "    <tr>\n",
       "      <th>3</th>\n",
       "      <td>2014-04-01 00:28:00</td>\n",
       "      <td>40.7588</td>\n",
       "      <td>-73.9776</td>\n",
       "      <td>B02512</td>\n",
       "      <td>1900-01-01 00:28:00</td>\n",
       "      <td>1</td>\n",
       "      <td>4</td>\n",
       "      <td>2014</td>\n",
       "      <td>1</td>\n",
       "      <td>Tue</td>\n",
       "    </tr>\n",
       "    <tr>\n",
       "      <th>4</th>\n",
       "      <td>2014-04-01 00:33:00</td>\n",
       "      <td>40.7594</td>\n",
       "      <td>-73.9722</td>\n",
       "      <td>B02512</td>\n",
       "      <td>1900-01-01 00:33:00</td>\n",
       "      <td>1</td>\n",
       "      <td>4</td>\n",
       "      <td>2014</td>\n",
       "      <td>1</td>\n",
       "      <td>Tue</td>\n",
       "    </tr>\n",
       "  </tbody>\n",
       "</table>\n",
       "</div>"
      ],
      "text/plain": [
       "            Date/Time      Lat      Lon    Base                Time  Day  \\\n",
       "0 2014-04-01 00:11:00  40.7690 -73.9549  B02512 1900-01-01 00:11:00    1   \n",
       "1 2014-04-01 00:17:00  40.7267 -74.0345  B02512 1900-01-01 00:17:00    1   \n",
       "2 2014-04-01 00:21:00  40.7316 -73.9873  B02512 1900-01-01 00:21:00    1   \n",
       "3 2014-04-01 00:28:00  40.7588 -73.9776  B02512 1900-01-01 00:28:00    1   \n",
       "4 2014-04-01 00:33:00  40.7594 -73.9722  B02512 1900-01-01 00:33:00    1   \n",
       "\n",
       "   Month  Year  Day_of_Week Day_Name  \n",
       "0      4  2014            1      Tue  \n",
       "1      4  2014            1      Tue  \n",
       "2      4  2014            1      Tue  \n",
       "3      4  2014            1      Tue  \n",
       "4      4  2014            1      Tue  "
      ]
     },
     "execution_count": 29,
     "metadata": {},
     "output_type": "execute_result"
    }
   ],
   "source": [
    "data['Day_Name'] = data['Day_of_Week'].map({0: 'Mon', 1: 'Tue', 2: 'Wed', 3: 'Thur', 4: 'Fri', 5: 'Sat', 6: 'Sun'})\n",
    "data.head()"
   ]
  },
  {
   "cell_type": "code",
   "execution_count": 30,
   "id": "possible-volunteer",
   "metadata": {},
   "outputs": [
    {
     "data": {
      "text/html": [
       "<div>\n",
       "<style scoped>\n",
       "    .dataframe tbody tr th:only-of-type {\n",
       "        vertical-align: middle;\n",
       "    }\n",
       "\n",
       "    .dataframe tbody tr th {\n",
       "        vertical-align: top;\n",
       "    }\n",
       "\n",
       "    .dataframe thead th {\n",
       "        text-align: right;\n",
       "    }\n",
       "</style>\n",
       "<table border=\"1\" class=\"dataframe\">\n",
       "  <thead>\n",
       "    <tr style=\"text-align: right;\">\n",
       "      <th></th>\n",
       "      <th>Date/Time</th>\n",
       "      <th>Lat</th>\n",
       "      <th>Lon</th>\n",
       "      <th>Base</th>\n",
       "      <th>Time</th>\n",
       "      <th>Day</th>\n",
       "      <th>Month</th>\n",
       "      <th>Year</th>\n",
       "      <th>Day_of_Week</th>\n",
       "      <th>Day_Name</th>\n",
       "      <th>hour</th>\n",
       "      <th>minute</th>\n",
       "      <th>second</th>\n",
       "    </tr>\n",
       "  </thead>\n",
       "  <tbody>\n",
       "    <tr>\n",
       "      <th>0</th>\n",
       "      <td>2014-04-01 00:11:00</td>\n",
       "      <td>40.7690</td>\n",
       "      <td>-73.9549</td>\n",
       "      <td>B02512</td>\n",
       "      <td>1900-01-01 00:11:00</td>\n",
       "      <td>1</td>\n",
       "      <td>4</td>\n",
       "      <td>2014</td>\n",
       "      <td>1</td>\n",
       "      <td>Tue</td>\n",
       "      <td>0</td>\n",
       "      <td>11</td>\n",
       "      <td>0</td>\n",
       "    </tr>\n",
       "    <tr>\n",
       "      <th>1</th>\n",
       "      <td>2014-04-01 00:17:00</td>\n",
       "      <td>40.7267</td>\n",
       "      <td>-74.0345</td>\n",
       "      <td>B02512</td>\n",
       "      <td>1900-01-01 00:17:00</td>\n",
       "      <td>1</td>\n",
       "      <td>4</td>\n",
       "      <td>2014</td>\n",
       "      <td>1</td>\n",
       "      <td>Tue</td>\n",
       "      <td>0</td>\n",
       "      <td>17</td>\n",
       "      <td>0</td>\n",
       "    </tr>\n",
       "    <tr>\n",
       "      <th>2</th>\n",
       "      <td>2014-04-01 00:21:00</td>\n",
       "      <td>40.7316</td>\n",
       "      <td>-73.9873</td>\n",
       "      <td>B02512</td>\n",
       "      <td>1900-01-01 00:21:00</td>\n",
       "      <td>1</td>\n",
       "      <td>4</td>\n",
       "      <td>2014</td>\n",
       "      <td>1</td>\n",
       "      <td>Tue</td>\n",
       "      <td>0</td>\n",
       "      <td>21</td>\n",
       "      <td>0</td>\n",
       "    </tr>\n",
       "    <tr>\n",
       "      <th>3</th>\n",
       "      <td>2014-04-01 00:28:00</td>\n",
       "      <td>40.7588</td>\n",
       "      <td>-73.9776</td>\n",
       "      <td>B02512</td>\n",
       "      <td>1900-01-01 00:28:00</td>\n",
       "      <td>1</td>\n",
       "      <td>4</td>\n",
       "      <td>2014</td>\n",
       "      <td>1</td>\n",
       "      <td>Tue</td>\n",
       "      <td>0</td>\n",
       "      <td>28</td>\n",
       "      <td>0</td>\n",
       "    </tr>\n",
       "    <tr>\n",
       "      <th>4</th>\n",
       "      <td>2014-04-01 00:33:00</td>\n",
       "      <td>40.7594</td>\n",
       "      <td>-73.9722</td>\n",
       "      <td>B02512</td>\n",
       "      <td>1900-01-01 00:33:00</td>\n",
       "      <td>1</td>\n",
       "      <td>4</td>\n",
       "      <td>2014</td>\n",
       "      <td>1</td>\n",
       "      <td>Tue</td>\n",
       "      <td>0</td>\n",
       "      <td>33</td>\n",
       "      <td>0</td>\n",
       "    </tr>\n",
       "  </tbody>\n",
       "</table>\n",
       "</div>"
      ],
      "text/plain": [
       "            Date/Time      Lat      Lon    Base                Time  Day  \\\n",
       "0 2014-04-01 00:11:00  40.7690 -73.9549  B02512 1900-01-01 00:11:00    1   \n",
       "1 2014-04-01 00:17:00  40.7267 -74.0345  B02512 1900-01-01 00:17:00    1   \n",
       "2 2014-04-01 00:21:00  40.7316 -73.9873  B02512 1900-01-01 00:21:00    1   \n",
       "3 2014-04-01 00:28:00  40.7588 -73.9776  B02512 1900-01-01 00:28:00    1   \n",
       "4 2014-04-01 00:33:00  40.7594 -73.9722  B02512 1900-01-01 00:33:00    1   \n",
       "\n",
       "   Month  Year  Day_of_Week Day_Name  hour  minute  second  \n",
       "0      4  2014            1      Tue     0      11       0  \n",
       "1      4  2014            1      Tue     0      17       0  \n",
       "2      4  2014            1      Tue     0      21       0  \n",
       "3      4  2014            1      Tue     0      28       0  \n",
       "4      4  2014            1      Tue     0      33       0  "
      ]
     },
     "execution_count": 30,
     "metadata": {},
     "output_type": "execute_result"
    }
   ],
   "source": [
    "# Create hour, minute, second columns\n",
    "\n",
    "data['hour'] = data['Date/Time'].dt.hour\n",
    "data['minute'] = data['Date/Time'].dt.minute\n",
    "data['second'] = data['Date/Time'].dt.second\n",
    "data.head()"
   ]
  },
  {
   "cell_type": "code",
   "execution_count": 31,
   "id": "remarkable-muslim",
   "metadata": {},
   "outputs": [
    {
     "name": "stdout",
     "output_type": "stream",
     "text": [
      "<class 'pandas.core.frame.DataFrame'>\n",
      "Int64Index: 4534327 entries, 0 to 1028135\n",
      "Data columns (total 13 columns):\n",
      " #   Column       Dtype         \n",
      "---  ------       -----         \n",
      " 0   Date/Time    datetime64[ns]\n",
      " 1   Lat          float64       \n",
      " 2   Lon          float64       \n",
      " 3   Base         object        \n",
      " 4   Time         datetime64[ns]\n",
      " 5   Day          int64         \n",
      " 6   Month        int64         \n",
      " 7   Year         int64         \n",
      " 8   Day_of_Week  int64         \n",
      " 9   Day_Name     object        \n",
      " 10  hour         int64         \n",
      " 11  minute       int64         \n",
      " 12  second       int64         \n",
      "dtypes: datetime64[ns](2), float64(2), int64(7), object(2)\n",
      "memory usage: 484.3+ MB\n"
     ]
    }
   ],
   "source": [
    "data.info()"
   ]
  },
  {
   "cell_type": "code",
   "execution_count": 33,
   "id": "numerous-alexandria",
   "metadata": {},
   "outputs": [
    {
     "data": {
      "text/plain": [
       "Date/Time      0\n",
       "Lat            0\n",
       "Lon            0\n",
       "Base           0\n",
       "Time           0\n",
       "Day            0\n",
       "Month          0\n",
       "Year           0\n",
       "Day_of_Week    0\n",
       "Day_Name       0\n",
       "hour           0\n",
       "minute         0\n",
       "second         0\n",
       "dtype: int64"
      ]
     },
     "execution_count": 33,
     "metadata": {},
     "output_type": "execute_result"
    }
   ],
   "source": [
    "# Check for missing values\n",
    "\n",
    "data.isnull().sum(by='hour')"
   ]
  },
  {
   "cell_type": "markdown",
   "id": "noted-pierce",
   "metadata": {},
   "source": [
    "## Plot trips by hour of the day"
   ]
  },
  {
   "cell_type": "code",
   "execution_count": 52,
   "id": "improved-curtis",
   "metadata": {},
   "outputs": [
    {
     "data": {
      "text/html": [
       "<div><table id=\"c288a056-7747-4f8a-aebf-6bdb0ee9dff6\" class=\"display\"><thead>\n",
       "    <tr style=\"text-align: right;\">\n",
       "      <th></th>\n",
       "      <th>Date/Time</th>\n",
       "      <th>Lat</th>\n",
       "      <th>Lon</th>\n",
       "      <th>Base</th>\n",
       "      <th>Time</th>\n",
       "      <th>Day</th>\n",
       "      <th>Month</th>\n",
       "      <th>Year</th>\n",
       "      <th>Day_of_Week</th>\n",
       "      <th>Day_Name</th>\n",
       "      <th>hour</th>\n",
       "      <th>minute</th>\n",
       "      <th>second</th>\n",
       "      <th>trip_count</th>\n",
       "    </tr>\n",
       "  </thead></table>\n",
       "<script type=\"text/javascript\">\n",
       "require([\"datatables\"], function (datatables) {\n",
       "    $(document).ready(function () {\n",
       "        var dt_args = {\"columnDefs\": [{\"width\": \"70px\", \"targets\": \"_all\"}], \"paging\": false, \"data\": [[0, \"2014-04-01 00:11:00\", 40.769, -73.9549, \"B02512\", \"1900-01-01 00:11:00\", 1, 4, 2014, 1, \"Tue\", 0, 11, 0, 1], [1, \"2014-04-01 00:17:00\", 40.7267, -74.0345, \"B02512\", \"1900-01-01 00:17:00\", 1, 4, 2014, 1, \"Tue\", 0, 17, 0, 1], [2, \"2014-04-01 00:21:00\", 40.7316, -73.9873, \"B02512\", \"1900-01-01 00:21:00\", 1, 4, 2014, 1, \"Tue\", 0, 21, 0, 1], [3, \"2014-04-01 00:28:00\", 40.7588, -73.9776, \"B02512\", \"1900-01-01 00:28:00\", 1, 4, 2014, 1, \"Tue\", 0, 28, 0, 1], [4, \"2014-04-01 00:33:00\", 40.7594, -73.9722, \"B02512\", \"1900-01-01 00:33:00\", 1, 4, 2014, 1, \"Tue\", 0, 33, 0, 1]]};\n",
       "        dt_args = eval_functions(dt_args);\n",
       "        table = $('#c288a056-7747-4f8a-aebf-6bdb0ee9dff6').DataTable(dt_args);\n",
       "    });\n",
       "})\n",
       "</script>\n",
       "</div>\n"
      ],
      "text/plain": [
       "            Date/Time      Lat      Lon    Base                Time  Day  \\\n",
       "0 2014-04-01 00:11:00  40.7690 -73.9549  B02512 1900-01-01 00:11:00    1   \n",
       "1 2014-04-01 00:17:00  40.7267 -74.0345  B02512 1900-01-01 00:17:00    1   \n",
       "2 2014-04-01 00:21:00  40.7316 -73.9873  B02512 1900-01-01 00:21:00    1   \n",
       "3 2014-04-01 00:28:00  40.7588 -73.9776  B02512 1900-01-01 00:28:00    1   \n",
       "4 2014-04-01 00:33:00  40.7594 -73.9722  B02512 1900-01-01 00:33:00    1   \n",
       "\n",
       "   Month  Year  Day_of_Week Day_Name  hour  minute  second  trip_count  \n",
       "0      4  2014            1      Tue     0      11       0           1  \n",
       "1      4  2014            1      Tue     0      17       0           1  \n",
       "2      4  2014            1      Tue     0      21       0           1  \n",
       "3      4  2014            1      Tue     0      28       0           1  \n",
       "4      4  2014            1      Tue     0      33       0           1  "
      ]
     },
     "execution_count": 52,
     "metadata": {},
     "output_type": "execute_result"
    }
   ],
   "source": [
    "data['trip_count'] = 1\n",
    "data.head()"
   ]
  },
  {
   "cell_type": "code",
   "execution_count": 61,
   "id": "sonic-hanging",
   "metadata": {
    "scrolled": true
   },
   "outputs": [
    {
     "data": {
      "text/html": [
       "<div><table id=\"9c604fbf-b2fa-4fd4-b2d3-009821114be0\" class=\"display\"><thead>\n",
       "    <tr style=\"text-align: right;\">\n",
       "      \n",
       "      <th>hour</th>\n",
       "      <th>trip_count</th>\n",
       "    </tr>\n",
       "  </thead></table>\n",
       "<script type=\"text/javascript\">\n",
       "require([\"datatables\"], function (datatables) {\n",
       "    $(document).ready(function () {\n",
       "        var dt_args = {\"columnDefs\": [{\"width\": \"70px\", \"targets\": \"_all\"}], \"data\": [[0, 103836], [1, 67227], [2, 45865], [3, 48287], [4, 55230], [5, 83939], [6, 143213], [7, 193094], [8, 190504], [9, 159967], [10, 159148], [11, 165703], [12, 170452], [13, 195877], [14, 230625], [15, 275466], [16, 313400], [17, 336190], [18, 324679], [19, 294513], [20, 284604], [21, 281460], [22, 241858], [23, 169190]]};\n",
       "        dt_args = eval_functions(dt_args);\n",
       "        table = $('#9c604fbf-b2fa-4fd4-b2d3-009821114be0').DataTable(dt_args);\n",
       "    });\n",
       "})\n",
       "</script>\n",
       "</div>\n"
      ],
      "text/plain": [
       "    hour  trip_count\n",
       "0      0      103836\n",
       "1      1       67227\n",
       "2      2       45865\n",
       "3      3       48287\n",
       "4      4       55230\n",
       "5      5       83939\n",
       "6      6      143213\n",
       "7      7      193094\n",
       "8      8      190504\n",
       "9      9      159967\n",
       "10    10      159148\n",
       "11    11      165703\n",
       "12    12      170452\n",
       "13    13      195877\n",
       "14    14      230625\n",
       "15    15      275466\n",
       "16    16      313400\n",
       "17    17      336190\n",
       "18    18      324679\n",
       "19    19      294513\n",
       "20    20      284604\n",
       "21    21      281460\n",
       "22    22      241858\n",
       "23    23      169190"
      ]
     },
     "execution_count": 61,
     "metadata": {},
     "output_type": "execute_result"
    }
   ],
   "source": [
    "hour_data = data.groupby(by='hour').sum().reset_index()\n",
    "hour_data = hour_data[['hour', 'trip_count']]\n",
    "hour_data"
   ]
  },
  {
   "cell_type": "code",
   "execution_count": 85,
   "id": "tutorial-graduation",
   "metadata": {},
   "outputs": [
    {
     "data": {
      "image/png": "[encoded data removed]",
      "text/plain": [
       "<Figure size 640x480 with 1 Axes>"
      ]
     },
     "metadata": {},
     "output_type": "display_data"
    },
    {
     "data": {
      "text/plain": [
       "<ggplot: (-9223371896284987792)>"
      ]
     },
     "execution_count": 85,
     "metadata": {},
     "output_type": "execute_result"
    }
   ],
   "source": [
    "ggplot(hour_data, aes('hour', 'trip_count')) + \\\n",
    "geom_bar(data=hour_data, stat='identity', fill='#003f5c', color='#bc5090') + \\\n",
    "labels.ggtitle('Trips By Hour (Apr-Sep 2014)') + labels.xlab('Hour of Day') + labels.ylab('Total Trips') + \\\n",
    "scales.scale_x_continuous(breaks=range(0, 24)) + \\\n",
    "scales.scale_y_continuous(breaks=range(0, 400000, 50000))"
   ]
  },
  {
   "cell_type": "code",
   "execution_count": 90,
   "id": "composed-panel",
   "metadata": {},
   "outputs": [
    {
     "data": {
      "text/html": [
       "<div><table id=\"1c05f585-68df-401c-928c-617cea1af086\" class=\"display\"><thead>\n",
       "    <tr style=\"text-align: right;\">\n",
       "      \n",
       "      <th>Month</th>\n",
       "      <th>hour</th>\n",
       "      <th>trip_count</th>\n",
       "    </tr>\n",
       "  </thead></table>\n",
       "<script type=\"text/javascript\">\n",
       "require([\"datatables\"], function (datatables) {\n",
       "    $(document).ready(function () {\n",
       "        var dt_args = {\"columnDefs\": [{\"width\": \"70px\", \"targets\": \"_all\"}], \"data\": [[4, 0, 11910], [4, 1, 7769], [4, 2, 4935], [4, 3, 5040], [4, 4, 6095], [4, 5, 9476], [4, 6, 18498], [4, 7, 24924], [4, 8, 22843], [4, 9, 17939], [4, 10, 17865], [4, 11, 18774], [4, 12, 19425], [4, 13, 22603], [4, 14, 27190], [4, 15, 35324], [4, 16, 42003], [4, 17, 45475], [4, 18, 43003], [4, 19, 38923], [4, 20, 36244], [4, 21, 36964], [4, 22, 30645], [4, 23, 20649], [5, 0, 13875], [5, 1, 8186], [5, 2, 5372], [5, 3, 5946], [5, 4, 6945], [5, 5, 10789], [5, 6, 21015], [5, 7, 27413], [5, 8, 25460], [5, 9, 20507], [5, 10, 20801], [5, 11, 22055], [5, 12, 23595], [5, 13, 27699], [5, 14, 34363], [5, 15, 43087], [5, 16, 49127], [5, 17, 51508], [5, 18, 48965], [5, 19, 42387], [5, 20, 40731], [5, 21, 42217], [5, 22, 35556], [5, 23, 24836], [6, 0, 14514], [6, 1, 9167], [6, 2, 6189], [6, 3, 6937], [6, 4, 7701], [6, 5, 11955], [6, 6, 22030], [6, 7, 30834], [6, 8, 29771], [6, 9, 24298], [6, 10, 23584], [6, 11, 24155], [6, 12, 25233], [6, 13, 28937], [6, 14, 34428], [6, 15, 41586], [6, 16, 48162], [6, 17, 50452], [6, 18, 45013], [6, 19, 38203], [6, 20, 40108], [6, 21, 40791], [6, 22, 35614], [6, 23, 24182], [7, 0, 17953], [7, 1, 11527], [7, 2, 8562], [7, 3, 9199], [7, 4, 10040], [7, 5, 14932], [7, 6, 23456], [7, 7, 32545], [7, 8, 33387], [7, 9, 28486], [7, 10, 28558], [7, 11, 30120], [7, 12, 30900], [7, 13, 35832], [7, 14, 41357], [7, 15, 46053], [7, 16, 52403], [7, 17, 58260], [7, 18, 57268], [7, 19, 52332], [7, 20, 51859], [7, 21, 49528], [7, 22, 42218], [7, 23, 29346], [8, 0, 21451], [8, 1, 14471], [8, 2, 10105], [8, 3, 10376], [8, 4, 11774], [8, 5, 16525], [8, 6, 24907], [8, 7, 34064], [8, 8, 34566], [8, 9, 30195], [8, 10, 30706], [8, 11, 31778], [8, 12, 32106], [8, 13, 35764], [8, 14, 40644], [8, 15, 48197], [8, 16, 53481], [8, 17, 57122], [8, 18, 55390], [8, 19, 53008], [8, 20, 51674], [8, 21, 51354], [8, 22, 46008], [8, 23, 33609], [9, 0, 24133], [9, 1, 16107], [9, 2, 10702], [9, 3, 10789], [9, 4, 12675], [9, 5, 20262], [9, 6, 33307], [9, 7, 43314], [9, 8, 44477], [9, 9, 38542], [9, 10, 37634], [9, 11, 38821], [9, 12, 39193], [9, 13, 45042], [9, 14, 52643], [9, 15, 61219], [9, 16, 68224], [9, 17, 73373], [9, 18, 75040], [9, 19, 69660], [9, 20, 63988], [9, 21, 60606], [9, 22, 51817], [9, 23, 36568]]};\n",
       "        dt_args = eval_functions(dt_args);\n",
       "        table = $('#1c05f585-68df-401c-928c-617cea1af086').DataTable(dt_args);\n",
       "    });\n",
       "})\n",
       "</script>\n",
       "</div>\n"
      ],
      "text/plain": [
       "     Month  hour  trip_count\n",
       "0        4     0       11910\n",
       "1        4     1        7769\n",
       "2        4     2        4935\n",
       "3        4     3        5040\n",
       "4        4     4        6095\n",
       "..     ...   ...         ...\n",
       "139      9    19       69660\n",
       "140      9    20       63988\n",
       "141      9    21       60606\n",
       "142      9    22       51817\n",
       "143      9    23       36568\n",
       "\n",
       "[144 rows x 3 columns]"
      ]
     },
     "execution_count": 90,
     "metadata": {},
     "output_type": "execute_result"
    }
   ],
   "source": [
    "month_hour = data.groupby(by=['Month', 'hour']).sum().reset_index()\n",
    "month_hour = month_hour[['Month', 'hour', 'trip_count']]\n",
    "month_hour"
   ]
  },
  {
   "cell_type": "code",
   "execution_count": 91,
   "id": "impressive-directory",
   "metadata": {},
   "outputs": [
    {
     "data": {
      "image/png": "[encoded data removed]",
      "text/plain": [
       "<Figure size 640x480 with 1 Axes>"
      ]
     },
     "metadata": {},
     "output_type": "display_data"
    },
    {
     "data": {
      "text/plain": [
       "<ggplot: (-9223371896284021232)>"
      ]
     },
     "execution_count": 91,
     "metadata": {},
     "output_type": "execute_result"
    }
   ],
   "source": [
    "ggplot(month_hour, aes('hour', 'trip_count', fill='Month')) + \\\n",
    "geom_bar(stat='identity') + \\\n",
    "labels.ggtitle('Trips By Hour and Month (Apr-Sep 2014)') + labels.xlab('Hour of Day') + labels.ylab('Total Trips') + \\\n",
    "scales.scale_x_continuous(breaks=range(0, 24)) + \\\n",
    "scales.scale_y_continuous(breaks=range(0, 400000, 50000))"
   ]
  },
  {
   "cell_type": "markdown",
   "id": "authorized-bottom",
   "metadata": {},
   "source": [
    "## Plot trips by day"
   ]
  },
  {
   "cell_type": "code",
   "execution_count": 92,
   "id": "organized-smell",
   "metadata": {},
   "outputs": [
    {
     "data": {
      "text/html": [
       "<div><table id=\"3c12f3dc-4e61-4aa8-9fd4-27ddacb81938\" class=\"display\"><thead>\n",
       "    <tr style=\"text-align: right;\">\n",
       "      \n",
       "      <th>Day</th>\n",
       "      <th>trip_count</th>\n",
       "    </tr>\n",
       "  </thead></table>\n",
       "<script type=\"text/javascript\">\n",
       "require([\"datatables\"], function (datatables) {\n",
       "    $(document).ready(function () {\n",
       "        var dt_args = {\"columnDefs\": [{\"width\": \"70px\", \"targets\": \"_all\"}], \"data\": [[1, 127430], [2, 143201], [3, 142983], [4, 140923], [5, 147054], [6, 139886], [7, 143503], [8, 145984], [9, 155135], [10, 152500], [11, 148860], [12, 160606], [13, 156892], [14, 140148], [15, 153726], [16, 158921], [17, 152524], [18, 151319], [19, 153088], [20, 144179], [21, 141112], [22, 146952], [23, 156032], [24, 144169], [25, 152667], [26, 153405], [27, 145652], [28, 141157], [29, 149086], [30, 167160], [31, 78073]]};\n",
       "        dt_args = eval_functions(dt_args);\n",
       "        table = $('#3c12f3dc-4e61-4aa8-9fd4-27ddacb81938').DataTable(dt_args);\n",
       "    });\n",
       "})\n",
       "</script>\n",
       "</div>\n"
      ],
      "text/plain": [
       "    Day  trip_count\n",
       "0     1      127430\n",
       "1     2      143201\n",
       "2     3      142983\n",
       "3     4      140923\n",
       "4     5      147054\n",
       "5     6      139886\n",
       "6     7      143503\n",
       "7     8      145984\n",
       "8     9      155135\n",
       "9    10      152500\n",
       "10   11      148860\n",
       "11   12      160606\n",
       "12   13      156892\n",
       "13   14      140148\n",
       "14   15      153726\n",
       "15   16      158921\n",
       "16   17      152524\n",
       "17   18      151319\n",
       "18   19      153088\n",
       "19   20      144179\n",
       "20   21      141112\n",
       "21   22      146952\n",
       "22   23      156032\n",
       "23   24      144169\n",
       "24   25      152667\n",
       "25   26      153405\n",
       "26   27      145652\n",
       "27   28      141157\n",
       "28   29      149086\n",
       "29   30      167160\n",
       "30   31       78073"
      ]
     },
     "execution_count": 92,
     "metadata": {},
     "output_type": "execute_result"
    }
   ],
   "source": [
    "day_data = data.groupby(by=['Day']).sum().reset_index()\n",
    "day_data = day_data[['Day', 'trip_count']]\n",
    "day_data"
   ]
  },
  {
   "cell_type": "code",
   "execution_count": null,
   "id": "hungry-catholic",
   "metadata": {},
   "outputs": [],
   "source": []
  }
 ],
 "metadata": {
  "kernelspec": {
   "display_name": "Python 3",
   "language": "python",
   "name": "python3"
  },
  "language_info": {
   "codemirror_mode": {
    "name": "ipython",
    "version": 3
   },
   "file_extension": ".py",
   "mimetype": "text/x-python",
   "name": "python",
   "nbconvert_exporter": "python",
   "pygments_lexer": "ipython3",
   "version": "3.7.7"
  },
  "toc": {
   "base_numbering": 1,
   "nav_menu": {},
   "number_sections": true,
   "sideBar": true,
   "skip_h1_title": false,
   "title_cell": "Table of Contents",
   "title_sidebar": "Contents",
   "toc_cell": false,
   "toc_position": {
    "height": "calc(100% - 180px)",
    "left": "10px",
    "top": "150px",
    "width": "154.4px"
   },
   "toc_section_display": true,
   "toc_window_display": true
  }
 },
 "nbformat": 4,
 "nbformat_minor": 5
}
